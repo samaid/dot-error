{
 "cells": [
  {
   "cell_type": "code",
   "execution_count": 6,
   "id": "81b1a6d1-6d29-4994-b124-c26d1aac38c3",
   "metadata": {},
   "outputs": [
    {
     "name": "stdout",
     "output_type": "stream",
     "text": [
      "1.0 1.0000763436834503\n"
     ]
    }
   ],
   "source": [
    "import numpy as np\n",
    "\n",
    "np.random.seed(77777)\n",
    "\n",
    "N = 10\n",
    "\n",
    "def add_noise(x, eps):\n",
    "    if isinstance(x, np.ndarray):\n",
    "        return x + np.random.rand(x.size) * eps\n",
    "    else:\n",
    "        return x + np.random.rand() * eps\n",
    "\n",
    "x = 1.0\n",
    "eps = 1e-3\n",
    "y = add_noise(x, eps)\n",
    "print(x, y)"
   ]
  },
  {
   "cell_type": "code",
   "execution_count": 7,
   "id": "ee0dcd7a-ef32-40f3-acec-12e1c078ddcc",
   "metadata": {},
   "outputs": [
    {
     "name": "stdout",
     "output_type": "stream",
     "text": [
      "FLOAT64 SUM: 0.002243626359482498\n",
      "FLOAT16 SUM: 0.001953125\n",
      "RELATIVE ERROR: 0.14873669605503892\n"
     ]
    }
   ],
   "source": [
    "z = np.empty(shape=N)\n",
    "z[0] = np.random.rand() + 1.0 # Uniform random [1, 2)\n",
    "for i in range(1, N):\n",
    "    z[i] = add_noise(-z[i-1], eps)\n",
    "\n",
    "zs = z.sum()\n",
    "zf = z.astype(np.float16)\n",
    "zfs = zf.sum()\n",
    "\n",
    "print(f\"FLOAT64 SUM: {zs}\")\n",
    "print(f\"FLOAT16 SUM: {zfs}\")\n",
    "print(f\"RELATIVE ERROR: {np.abs(zs / zfs - 1.0)}\")"
   ]
  },
  {
   "cell_type": "code",
   "execution_count": 8,
   "id": "7d439af5-4037-467a-bed5-3c2709243f69",
   "metadata": {},
   "outputs": [
    {
     "name": "stdout",
     "output_type": "stream",
     "text": [
      "[ 1.27939643 -1.27918856  1.27954647 -1.27941507  1.27974119 -1.27947455\n",
      "  1.27985517 -1.27972834  1.27985596 -1.27971199]\n",
      "[1.27939643 1.27918856 1.27954647 1.27941507 1.27974119 1.27947455\n",
      " 1.27985517 1.27972834 1.27985596 1.27971199]\n",
      "0.0022436263594798334\n"
     ]
    }
   ],
   "source": [
    "a = np.sqrt(np.abs(z)) * np.sign(z)\n",
    "b = np.sqrt(np.abs(z))\n",
    "c = np.dot(a, b)\n",
    "print(a)\n",
    "print(b)\n",
    "print(c)"
   ]
  },
  {
   "cell_type": "code",
   "execution_count": 9,
   "id": "dee4239d-28e4-4b2a-9263-2ab7755a59f2",
   "metadata": {},
   "outputs": [
    {
     "name": "stdout",
     "output_type": "stream",
     "text": [
      "[ 1.279 -1.279  1.279 -1.279  1.279 -1.279  1.28  -1.279  1.28  -1.279]\n",
      "[1.279 1.279 1.279 1.279 1.279 1.279 1.28  1.279 1.28  1.279]\n",
      "0.004997\n"
     ]
    }
   ],
   "source": [
    "af = a.astype(np.float16)\n",
    "bf = b.astype(np.float16)\n",
    "cf = np.dot(af, bf)\n",
    "print(af)\n",
    "print(bf)\n",
    "print(cf)"
   ]
  },
  {
   "cell_type": "code",
   "execution_count": 14,
   "id": "22d15b2d-5cd1-4946-9418-a61e7787da75",
   "metadata": {},
   "outputs": [
    {
     "name": "stdout",
     "output_type": "stream",
     "text": [
      "RELATIVE ERROR: 0.5510281004736783\n",
      "Estimated error: 0.07991\n"
     ]
    }
   ],
   "source": [
    "print(f\"RELATIVE ERROR: {np.abs(c / cf - 1.0)}\")\n",
    "fp16_machine_epsilon = 4.88e-04\n",
    "err_est = np.sum(np.abs(af) * np.abs(bf)) * N * fp16_machine_epsilon\n",
    "print(f\"Estimated error: {err_est}\")"
   ]
  },
  {
   "cell_type": "code",
   "execution_count": null,
   "id": "d22551c1-7054-4056-bfc9-0396caa2f823",
   "metadata": {},
   "outputs": [],
   "source": []
  }
 ],
 "metadata": {
  "kernelspec": {
   "display_name": "Python 3 (ipykernel)",
   "language": "python",
   "name": "python3"
  },
  "language_info": {
   "codemirror_mode": {
    "name": "ipython",
    "version": 3
   },
   "file_extension": ".py",
   "mimetype": "text/x-python",
   "name": "python",
   "nbconvert_exporter": "python",
   "pygments_lexer": "ipython3",
   "version": "3.12.2"
  }
 },
 "nbformat": 4,
 "nbformat_minor": 5
}

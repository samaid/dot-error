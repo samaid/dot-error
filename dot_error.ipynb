import numpy as np

np.random.seed(77777)

N = 10

def add_noise(x, eps):
    if isinstance(x, np.ndarray):
        return x + np.random.rand(x.size) * eps
    else:
        return x + np.random.rand() * eps

x = 1.0
eps = 1e-3
y = add_noise(x, eps)
print(x, y)
